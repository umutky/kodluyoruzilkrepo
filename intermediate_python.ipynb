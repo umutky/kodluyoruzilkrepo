{
 "cells": [
  {
   "attachments": {},
   "cell_type": "markdown",
   "metadata": {},
   "source": [
    "#KAYNAK: https://app.patika.dev/courses/ileri-python/class-static"
   ]
  },
  {
   "attachments": {},
   "cell_type": "markdown",
   "metadata": {},
   "source": [
    "# *args ve **kwargs"
   ]
  },
  {
   "cell_type": "code",
   "execution_count": null,
   "metadata": {},
   "outputs": [],
   "source": [
    "class Employee:\n",
    "    pass"
   ]
  },
  {
   "attachments": {},
   "cell_type": "markdown",
   "metadata": {},
   "source": [
    "**Önemli:** * işareti bir listenin,tuple'ın ya da string'in unpack edilmiş halini temsil eder. ** işareti ise dictionary'nin unpack edilmiş halini temsil eder."
   ]
  },
  {
   "attachments": {},
   "cell_type": "markdown",
   "metadata": {},
   "source": [
    "* args: \n",
    "\n",
    "Sınırsız sayıda parametreli fonksiyon oluşturmak için parametremizin önüne tek yıldız (*) koyabiliriz.\n",
    "\n",
    "Burada, fonksiyon parametresinden önce tek yıldız(*) kullandığımız için sonucumuz **tuple** olarak döner."
   ]
  },
  {
   "cell_type": "code",
   "execution_count": 14,
   "metadata": {},
   "outputs": [],
   "source": [
    "def sum(*args):\n",
    "    result = 0\n",
    "    print(\"args'ın veri tipi    :\",type(args))\n",
    "    print(\"args'ın döndürdüğü   :\",args)\n",
    "    for i in args:\n",
    "        result += i\n",
    "    return result\n"
   ]
  },
  {
   "cell_type": "code",
   "execution_count": 15,
   "metadata": {},
   "outputs": [
    {
     "name": "stdout",
     "output_type": "stream",
     "text": [
      "args'ın veri tipi    : <class 'tuple'>\n",
      "args'ın döndürdüğü   : (1, 2, 3, 4, 5, 6, 7, 8, 9, 10)\n"
     ]
    },
    {
     "data": {
      "text/plain": [
       "55"
      ]
     },
     "execution_count": 15,
     "metadata": {},
     "output_type": "execute_result"
    }
   ],
   "source": [
    "sum(1,2,3,4,5,6,7,8,9,10)"
   ]
  },
  {
   "cell_type": "code",
   "execution_count": 25,
   "metadata": {},
   "outputs": [],
   "source": [
    "#İçerisine liste verebilmek için bu formata getirmemiz gerek.\n",
    "def sum_2(*args):\n",
    "    result=0\n",
    "    print(type(args))\n",
    "    print(args)\n",
    "    print(len(args))\n",
    "    for i in args:\n",
    "        for j in i:\n",
    "            result += j\n",
    "    return result"
   ]
  },
  {
   "cell_type": "code",
   "execution_count": 26,
   "metadata": {},
   "outputs": [
    {
     "name": "stdout",
     "output_type": "stream",
     "text": [
      "<class 'tuple'>\n",
      "([1, 2, 3], [4, 5, 6], [7, 8, 9, 10])\n",
      "3\n"
     ]
    },
    {
     "data": {
      "text/plain": [
       "55"
      ]
     },
     "execution_count": 26,
     "metadata": {},
     "output_type": "execute_result"
    }
   ],
   "source": [
    "sum_2([1,2,3],[4,5,6],[7,8,9,10])"
   ]
  },
  {
   "attachments": {},
   "cell_type": "markdown",
   "metadata": {},
   "source": [
    "* kwargs: \n",
    "\n",
    "Çift yıldızlı (**) parametrelerin tek yıldızlı (*) parametrelerden en önemli farkı, fonksiyonu çağırırken anahtar değer ilişkisiyle çağırabilmemizdir.\n",
    "\n",
    "Burada, fonksiyon parametresinden önce çift yıldız(**) kullandığımız için sonucumuz **sözlük (dictionary)** olarak döner."
   ]
  },
  {
   "cell_type": "code",
   "execution_count": 33,
   "metadata": {},
   "outputs": [],
   "source": [
    "def students(**kwargs):\n",
    "    print(kwargs)\n",
    "    for val in kwargs.values():\n",
    "        print(val)"
   ]
  },
  {
   "cell_type": "code",
   "execution_count": 36,
   "metadata": {},
   "outputs": [
    {
     "name": "stdout",
     "output_type": "stream",
     "text": [
      "{'name': 'umut', 'age': 23, 'school': 'Marmara Unv'}\n",
      "umut\n",
      "23\n",
      "Marmara Unv\n"
     ]
    }
   ],
   "source": [
    "students(name=\"umut\", age=23, school=\"Marmara Unv\")"
   ]
  },
  {
   "attachments": {},
   "cell_type": "markdown",
   "metadata": {},
   "source": [
    "**args ve kwars** birlikte kullanılırken her zaman önce args yazılır."
   ]
  },
  {
   "cell_type": "code",
   "execution_count": 39,
   "metadata": {},
   "outputs": [],
   "source": [
    "#ikisinin birlikte kullanımı\n",
    "\n",
    "def topla_students(*args, **kwargs):\n",
    "    toplam = 0\n",
    "    for i in args:\n",
    "        toplam += i\n",
    "    for key,val in kwargs.items():\n",
    "        print(key, \":\", val)\n",
    "    return toplam"
   ]
  },
  {
   "cell_type": "code",
   "execution_count": 40,
   "metadata": {},
   "outputs": [
    {
     "name": "stdout",
     "output_type": "stream",
     "text": [
      "ad : umut\n",
      "yas : 23\n",
      "okul : Marmara Universitesi\n"
     ]
    },
    {
     "data": {
      "text/plain": [
       "10"
      ]
     },
     "execution_count": 40,
     "metadata": {},
     "output_type": "execute_result"
    }
   ],
   "source": [
    "topla_students(3,1,2,4, ad=\"umut\", yas=23, okul=\"Marmara Universitesi\")"
   ]
  },
  {
   "attachments": {},
   "cell_type": "markdown",
   "metadata": {},
   "source": [
    "Unpack işlemleri"
   ]
  },
  {
   "cell_type": "code",
   "execution_count": 41,
   "metadata": {},
   "outputs": [
    {
     "name": "stdout",
     "output_type": "stream",
     "text": [
      "1 2 3 45 5 6 1 5 2 3 4\n"
     ]
    }
   ],
   "source": [
    "liste1 = [1,2,3,45,5,6,1,5,2,3,4]\n",
    "print(*liste1)"
   ]
  },
  {
   "cell_type": "code",
   "execution_count": 42,
   "metadata": {},
   "outputs": [
    {
     "name": "stdout",
     "output_type": "stream",
     "text": [
      "[1, 2, 3, 45, 5, 6, 1, 5, 2, 3, 4, 1, 23, 4, 1, 5, 3, 5]\n"
     ]
    }
   ],
   "source": [
    "liste2= [1,23,4,1,5,3,5]\n",
    "merge_list = [*liste1, *liste2]\n",
    "print(merge_list)"
   ]
  },
  {
   "cell_type": "code",
   "execution_count": 54,
   "metadata": {},
   "outputs": [
    {
     "name": "stdout",
     "output_type": "stream",
     "text": [
      "{'Name': 'Umut', 'Age': 23, 'Surname': 'Kaya', 'School': 'Marmara'}\n"
     ]
    }
   ],
   "source": [
    "d1 = {\"Name\" : \"Umut\", \"Age\": 23}\n",
    "\n",
    "d2 = {\"Surname\" : \"Kaya\", \"School\": \"Marmara\"}\n",
    "\n",
    "merge_dict = {**d1, **d2}\n",
    "print(merge_dict)"
   ]
  },
  {
   "cell_type": "code",
   "execution_count": 58,
   "metadata": {},
   "outputs": [
    {
     "name": "stdout",
     "output_type": "stream",
     "text": [
      "['H', 'e', 'l', 'l', 'o', ' ', 'W', 'o', 'r', 'l', 'd']\n"
     ]
    }
   ],
   "source": [
    "word = \"Hello World\"\n",
    "list_w = [*word]\n",
    "print(list_w)"
   ]
  },
  {
   "attachments": {},
   "cell_type": "markdown",
   "metadata": {},
   "source": [
    "# Closure"
   ]
  },
  {
   "attachments": {},
   "cell_type": "markdown",
   "metadata": {},
   "source": [
    "# Decorators"
   ]
  },
  {
   "attachments": {},
   "cell_type": "markdown",
   "metadata": {},
   "source": [
    "Farklı bir fonksiyonu input olarak alır ve onu değiştirmeden farklı fonksiyonaliteler katar."
   ]
  },
  {
   "cell_type": "code",
   "execution_count": 70,
   "metadata": {},
   "outputs": [
    {
     "name": "stdout",
     "output_type": "stream",
     "text": [
      "Hey What's up\n"
     ]
    }
   ],
   "source": [
    "#Defined print function\n",
    "def print_func():\n",
    "    print(\"Hey What's up\")\n",
    "\n",
    "print_func()"
   ]
  },
  {
   "cell_type": "code",
   "execution_count": 66,
   "metadata": {},
   "outputs": [],
   "source": [
    "#Decorator function\n",
    "def decorator_func(func):\n",
    "    def wrapper_func():\n",
    "        print(f\"name of the function is {func.__name__}\")\n",
    "        return func()\n",
    "    return wrapper_func\n"
   ]
  },
  {
   "cell_type": "code",
   "execution_count": 67,
   "metadata": {},
   "outputs": [
    {
     "name": "stdout",
     "output_type": "stream",
     "text": [
      "name of the function is print_func\n",
      "Hey What's up\n"
     ]
    }
   ],
   "source": [
    "#Decorator function atama yaparak print_func değiştirmek.\n",
    "decorated_print = decorator_func(print_func)\n",
    "decorated_print()"
   ]
  },
  {
   "cell_type": "code",
   "execution_count": 71,
   "metadata": {},
   "outputs": [],
   "source": [
    "#Bu şekilde tanımladığımızda decorator fonksiyonumuz direkt olarak print_func'ımıza istediğimiz özelliği ekledi.\n",
    "#Bu işlemde kısaca print_func'ı bizim fonksiyonumuza input olarak vermiş oluyoruz.\n",
    "@decorator_func\n",
    "def print_func():\n",
    "    print(\"Hey What's up\")"
   ]
  },
  {
   "cell_type": "code",
   "execution_count": 69,
   "metadata": {},
   "outputs": [
    {
     "name": "stdout",
     "output_type": "stream",
     "text": [
      "name of the function is print_func\n",
      "Hey What's up\n"
     ]
    }
   ],
   "source": [
    "print_func()"
   ]
  },
  {
   "cell_type": "code",
   "execution_count": 76,
   "metadata": {},
   "outputs": [],
   "source": [
    "#students fonksiyonunu birden fazla argümanla da çalışabilecek hale getirelim.\n",
    "def students(name, surname, age):\n",
    "    return list([name, surname, age])"
   ]
  },
  {
   "cell_type": "code",
   "execution_count": 77,
   "metadata": {},
   "outputs": [
    {
     "data": {
      "text/plain": [
       "['Umut', 'Kaya', 23]"
      ]
     },
     "execution_count": 77,
     "metadata": {},
     "output_type": "execute_result"
    }
   ],
   "source": [
    "students(\"Umut\", \"Kaya\",23)"
   ]
  },
  {
   "cell_type": "code",
   "execution_count": 78,
   "metadata": {},
   "outputs": [],
   "source": [
    "def decorator_args(func):\n",
    "    def wrapper_func(*args):\n",
    "        return list([*args])\n",
    "    return wrapper_func\n"
   ]
  },
  {
   "cell_type": "code",
   "execution_count": 79,
   "metadata": {},
   "outputs": [],
   "source": [
    "@decorator_args\n",
    "def students(name, surname, age):\n",
    "    return list([name, surname, age])"
   ]
  },
  {
   "cell_type": "code",
   "execution_count": 80,
   "metadata": {},
   "outputs": [
    {
     "data": {
      "text/plain": [
       "['Umut', 'Berkay', 23, 45, 56, 1, 23]"
      ]
     },
     "execution_count": 80,
     "metadata": {},
     "output_type": "execute_result"
    }
   ],
   "source": [
    "students(\"Umut\",\"Berkay\",23,45,56,1,23)"
   ]
  },
  {
   "attachments": {},
   "cell_type": "markdown",
   "metadata": {},
   "source": [
    "# Class"
   ]
  },
  {
   "attachments": {},
   "cell_type": "markdown",
   "metadata": {},
   "source": [
    "* Class içerisindeki verilere(data) **attribute**, içerisindeki fonksiyonlara ise **method** denir."
   ]
  },
  {
   "attachments": {},
   "cell_type": "markdown",
   "metadata": {},
   "source": [
    "## Attribute"
   ]
  },
  {
   "cell_type": "code",
   "execution_count": 82,
   "metadata": {},
   "outputs": [
    {
     "ename": "IndentationError",
     "evalue": "expected an indented block (3505898793.py, line 1)",
     "output_type": "error",
     "traceback": [
      "\u001b[1;36m  File \u001b[1;32m\"C:\\Users\\umutk\\AppData\\Local\\Temp\\ipykernel_10512\\3505898793.py\"\u001b[1;36m, line \u001b[1;32m1\u001b[0m\n\u001b[1;33m    class Employee:\u001b[0m\n\u001b[1;37m                   ^\u001b[0m\n\u001b[1;31mIndentationError\u001b[0m\u001b[1;31m:\u001b[0m expected an indented block\n"
     ]
    }
   ],
   "source": [
    "# class Employee:, boş olduğu için hata verir."
   ]
  },
  {
   "attachments": {},
   "cell_type": "markdown",
   "metadata": {},
   "source": [
    "* Boş bir class oluşturucaksam **pass** kullanmalıyım."
   ]
  },
  {
   "cell_type": "code",
   "execution_count": 84,
   "metadata": {},
   "outputs": [],
   "source": [
    "class Employee:\n",
    "    pass"
   ]
  },
  {
   "cell_type": "code",
   "execution_count": 85,
   "metadata": {},
   "outputs": [],
   "source": [
    "# Class'ımızı kullanarak object oluşturalım.\n",
    "e = Employee()"
   ]
  },
  {
   "cell_type": "code",
   "execution_count": 86,
   "metadata": {},
   "outputs": [],
   "source": [
    "# Bu object'e attribute ekleyelim\n",
    "e.name = \"Umut\"\n",
    "e.name"
   ]
  },
  {
   "attachments": {},
   "cell_type": "markdown",
   "metadata": {},
   "source": [
    "* Böyle tek tek belirtmek yerine direkt class'ı oluştururken attributelerimizi belirleyelim"
   ]
  },
  {
   "cell_type": "code",
   "execution_count": 88,
   "metadata": {},
   "outputs": [],
   "source": [
    "class Employee:\n",
    "    def __init__(self, first_name, last_name, age, salary) :\n",
    "        self.first_name = first_name\n",
    "        self.last_name = last_name\n",
    "        self.age = age\n",
    "        self.salary = salary"
   ]
  },
  {
   "cell_type": "code",
   "execution_count": 92,
   "metadata": {},
   "outputs": [
    {
     "name": "stdout",
     "output_type": "stream",
     "text": [
      "umut's salary is 25000$\n"
     ]
    }
   ],
   "source": [
    "emp_1 = Employee(\"umut\",\"kaya\",23,\"25000$\")\n",
    "print(f\"{emp_1.first_name}'s salary is {emp_1.salary}\")"
   ]
  },
  {
   "attachments": {},
   "cell_type": "markdown",
   "metadata": {},
   "source": [
    "**Instance variable:** Class'tan yaratılan objelerin kendine özgü değişkenleridir. Burada yarattığımzı tüm attribute'lar instance variable'dır."
   ]
  },
  {
   "cell_type": "code",
   "execution_count": 93,
   "metadata": {},
   "outputs": [],
   "source": [
    "class Employee:\n",
    "    def __init__(self, first_name, last_name, age, salary) :\n",
    "        self.first_name = first_name\n",
    "        self.last_name = last_name\n",
    "        self.age = age\n",
    "        self.salary = salary\n",
    "    \n",
    "    def full_names(self):\n",
    "        print(f\"{self.first_name} {self.last_name}\")"
   ]
  },
  {
   "cell_type": "code",
   "execution_count": 98,
   "metadata": {},
   "outputs": [
    {
     "name": "stdout",
     "output_type": "stream",
     "text": [
      "melih kaya\n",
      "melih kaya\n"
     ]
    }
   ],
   "source": [
    "emp_2 = Employee(\"melih\", \"kaya\", 21, \"18000$\")\n",
    "\n",
    "Employee.full_names(emp_2)  #Class içerisinde oluşturduğumuzu fonksiyonu çağırıyoruz.\n",
    "\n",
    "emp_2.full_names()          #Class içerisinde oluşturduğumuzu fonksiyonu çağırıyoruz."
   ]
  },
  {
   "attachments": {},
   "cell_type": "markdown",
   "metadata": {},
   "source": [
    "**Class variable:** Bir sınıfın tüm örnekleri tarafından paylaşılan bir değişkendir. Sınıf değişkenleri bir sınıf içerisinde ancak sınıfın herhangi bir metodunun dışında tanımlanır."
   ]
  },
  {
   "cell_type": "code",
   "execution_count": 109,
   "metadata": {},
   "outputs": [],
   "source": [
    "class Employee:\n",
    "\n",
    "    raise_percent = 1.07    #Çalışanların alacakları zamın oranı.\n",
    "\n",
    "    def __init__(self, first_name, last_name, age, salary) :\n",
    "        self.first_name = first_name\n",
    "        self.last_name = last_name\n",
    "        self.age = age\n",
    "        self.salary = salary\n",
    "\n",
    "    def apply_raise(self):\n",
    "        self.salary = self.salary * Employee.raise_percent  # buraya 2 şekilde referans verebiliriz.\n",
    "        return self.salary"
   ]
  },
  {
   "attachments": {},
   "cell_type": "markdown",
   "metadata": {},
   "source": [
    "istersek **\"self.raise_percent\"** diye referans veririz. Bu demek olur ki her bir nesnenin raise_percenti kadar ekleme yap. E zaten biz bunu ayrı ayrı her nesne için tanımlamadık class' tanımladık böylelikle her nesne bunu içermek zorunda.\n",
    "\n",
    "Ya da **Employee.raise_percent** ilarak gösteririz ki bu da class'ın raise_percent'i anlamına gelir."
   ]
  },
  {
   "cell_type": "code",
   "execution_count": 110,
   "metadata": {},
   "outputs": [
    {
     "name": "stdout",
     "output_type": "stream",
     "text": [
      "Çalışanın önceki maaşı :  25000 \n",
      "Çalışanın zamdan sonraki maaşı :  26750.0\n"
     ]
    }
   ],
   "source": [
    "emp_1 = Employee(\"umut\", \"kaya\", 23, 25000)\n",
    "print(\"Çalışanın önceki maaşı : \", emp_1.salary,\"\\nÇalışanın zamdan sonraki maaşı : \",emp_1.apply_raise())"
   ]
  },
  {
   "cell_type": "code",
   "execution_count": 113,
   "metadata": {},
   "outputs": [
    {
     "name": "stdout",
     "output_type": "stream",
     "text": [
      "1.07\n",
      "1.07\n",
      "1.08\n",
      "1.08\n"
     ]
    }
   ],
   "source": [
    "#Class variable'ı güncellersek, bu değer tüm nesneler için güncellenir.\n",
    "#Öncesi\n",
    "print(emp_1.raise_percent)\n",
    "print(Employee.raise_percent)\n",
    "\n",
    "#Sonrası\n",
    "Employee.raise_percent = 1.08\n",
    "print(emp_1.raise_percent)\n",
    "print(Employee.raise_percent)"
   ]
  },
  {
   "cell_type": "code",
   "execution_count": 117,
   "metadata": {},
   "outputs": [
    {
     "name": "stdout",
     "output_type": "stream",
     "text": [
      "{'first_name': 'umut', 'last_name': 'kaya', 'age': 23, 'salary': 26750.0, 'exp': 35}\n",
      "{'first_name': 'melih', 'last_name': 'kaya', 'age': 21, 'salary': 18000}\n"
     ]
    }
   ],
   "source": [
    "#Instance Variable'lar da durum böyle değildir.\n",
    "emp_2 = Employee(\"melih\", \"kaya\", 21, 18000)\n",
    "emp_1.exp = 35\n",
    "print(emp_1.__dict__)\n",
    "print(emp_2.__dict__)"
   ]
  },
  {
   "attachments": {},
   "cell_type": "markdown",
   "metadata": {},
   "source": [
    "# Class Method - Static Method\n",
    "\n",
    "https://app.patika.dev/courses/ileri-python/class-static"
   ]
  },
  {
   "attachments": {},
   "cell_type": "markdown",
   "metadata": {},
   "source": [
    "# Magic (Dunder) Methods"
   ]
  },
  {
   "attachments": {},
   "cell_type": "markdown",
   "metadata": {},
   "source": [
    "Bu methodlar __ ile başlar __ ile biter."
   ]
  },
  {
   "attachments": {},
   "cell_type": "markdown",
   "metadata": {},
   "source": [
    "# Generators"
   ]
  },
  {
   "attachments": {},
   "cell_type": "markdown",
   "metadata": {},
   "source": [
    "Fonksiyonlar return parametresinden sonra sonucu verip kapanır. Fakat **generator**'lar kapanmazlar, biz sorgu yaptıkça bize çıktı vermeye devam ederler. Ta ki artık sonuç üretemeyecek olana kadar yani input bitene kadar.\n",
    "\n",
    "- Generator'lar, **iterator**'dürler. **next** ile bir sonraki değerlerin erişebiliriz."
   ]
  },
  {
   "cell_type": "code",
   "execution_count": 118,
   "metadata": {},
   "outputs": [],
   "source": [
    "def square_generator(l):\n",
    "    for i in l:\n",
    "        yield i*i"
   ]
  },
  {
   "cell_type": "code",
   "execution_count": 127,
   "metadata": {},
   "outputs": [],
   "source": [
    "l = [1,2,3]\n",
    "g = square_generator(l)"
   ]
  },
  {
   "cell_type": "code",
   "execution_count": 128,
   "metadata": {},
   "outputs": [
    {
     "data": {
      "text/plain": [
       "1"
      ]
     },
     "execution_count": 128,
     "metadata": {},
     "output_type": "execute_result"
    }
   ],
   "source": [
    "next(g)"
   ]
  },
  {
   "cell_type": "code",
   "execution_count": 129,
   "metadata": {},
   "outputs": [
    {
     "data": {
      "text/plain": [
       "4"
      ]
     },
     "execution_count": 129,
     "metadata": {},
     "output_type": "execute_result"
    }
   ],
   "source": [
    "next(g)"
   ]
  },
  {
   "cell_type": "code",
   "execution_count": 130,
   "metadata": {},
   "outputs": [
    {
     "data": {
      "text/plain": [
       "9"
      ]
     },
     "execution_count": 130,
     "metadata": {},
     "output_type": "execute_result"
    }
   ],
   "source": [
    "next(g)"
   ]
  },
  {
   "cell_type": "code",
   "execution_count": 131,
   "metadata": {},
   "outputs": [
    {
     "ename": "StopIteration",
     "evalue": "",
     "output_type": "error",
     "traceback": [
      "\u001b[1;31m---------------------------------------------------------------------------\u001b[0m",
      "\u001b[1;31mStopIteration\u001b[0m                             Traceback (most recent call last)",
      "\u001b[1;32m~\\AppData\\Local\\Temp\\ipykernel_10512\\4253931490.py\u001b[0m in \u001b[0;36m<cell line: 1>\u001b[1;34m()\u001b[0m\n\u001b[1;32m----> 1\u001b[1;33m \u001b[0mnext\u001b[0m\u001b[1;33m(\u001b[0m\u001b[0mg\u001b[0m\u001b[1;33m)\u001b[0m\u001b[1;33m\u001b[0m\u001b[1;33m\u001b[0m\u001b[0m\n\u001b[0m",
      "\u001b[1;31mStopIteration\u001b[0m: "
     ]
    }
   ],
   "source": [
    "next(g) #Exhaust oldu. tüm değerleri döndü tekrar çalıştırmak istersen en baştan atama yap."
   ]
  },
  {
   "cell_type": "code",
   "execution_count": 147,
   "metadata": {},
   "outputs": [
    {
     "data": {
      "text/plain": [
       "1"
      ]
     },
     "execution_count": 147,
     "metadata": {},
     "output_type": "execute_result"
    }
   ],
   "source": [
    "#Lsit comprehension gibi generator yaratmak. Tek farkı [] ile değil () ile yapmak.\n",
    "g = (x*x for x in [1,2,3])\n",
    "next(g)"
   ]
  },
  {
   "cell_type": "code",
   "execution_count": 148,
   "metadata": {},
   "outputs": [
    {
     "name": "stdout",
     "output_type": "stream",
     "text": [
      "4\n",
      "9\n"
     ]
    }
   ],
   "source": [
    "#Nerede kaldığını hatırlar ve ordan devam eder.\n",
    "for e in g:\n",
    "    print(e)"
   ]
  }
 ],
 "metadata": {
  "kernelspec": {
   "display_name": "base",
   "language": "python",
   "name": "python3"
  },
  "language_info": {
   "codemirror_mode": {
    "name": "ipython",
    "version": 3
   },
   "file_extension": ".py",
   "mimetype": "text/x-python",
   "name": "python",
   "nbconvert_exporter": "python",
   "pygments_lexer": "ipython3",
   "version": "3.9.12"
  },
  "orig_nbformat": 4
 },
 "nbformat": 4,
 "nbformat_minor": 2
}
