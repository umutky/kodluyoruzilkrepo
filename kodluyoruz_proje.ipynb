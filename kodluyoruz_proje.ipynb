{
 "cells": [
  {
   "cell_type": "markdown",
   "id": "17c260af-af30-445e-9710-7f88ac06a7aa",
   "metadata": {},
   "source": [
    "# Soru1:\n",
    "Bir listeyi düzleştiren (flatten) fonksiyon yazın. Elemanları birden çok katmanlı listelerden ([[3],2] gibi) oluşabileceği gibi, non-scalar verilerden de oluşabilir. Örnek olarak:\n",
    "\n",
    "input: [[1,'a',['cat'],2],[[[3]],'dog'],4,5]\n",
    "\n",
    "output: [1,'a','cat',2,3,'dog',4,5]"
   ]
  },
  {
   "cell_type": "code",
   "execution_count": 121,
   "id": "ac8aa294-46eb-4580-ba49-231de03bca41",
   "metadata": {},
   "outputs": [
    {
     "name": "stdout",
     "output_type": "stream",
     "text": [
      "[1, 'a', 'cat', 2, 3, 'dog', 4, 5]\n"
     ]
    }
   ],
   "source": [
    "def flatten(x):\n",
    "    if len(x) == 0:\n",
    "        return x\n",
    "    if isinstance(x[0], list):\n",
    "        return flatten(x[0]) + flatten(x[1:])\n",
    "    return x[:1] + flatten(x[1:])\n",
    "\n",
    "print(flatten([[1,'a',['cat'],2],[[[3]],'dog'],4,5]))"
   ]
  },
  {
   "cell_type": "markdown",
   "id": "6f365180-46c0-4468-9cd6-1639bc68fae5",
   "metadata": {},
   "source": [
    "# Soru2:\n",
    "Verilen listenin içindeki elemanları tersine döndüren bir fonksiyon yazın. Eğer listenin içindeki elemanlar da liste içeriyorsa onların elemanlarını da tersine döndürün. Örnek olarak:\n",
    "\n",
    "input: [[1, 2], [3, 4], [5, 6, 7]]\n",
    "\n",
    "output: [[[7, 6, 5], [4, 3], [2, 1]]"
   ]
  },
  {
   "cell_type": "code",
   "execution_count": 122,
   "id": "097de838-9102-4c89-b319-a72981bb822a",
   "metadata": {},
   "outputs": [
    {
     "data": {
      "text/plain": [
       "[[7, 6, 5], [4, 3], [2, 1]]"
      ]
     },
     "execution_count": 122,
     "metadata": {},
     "output_type": "execute_result"
    }
   ],
   "source": [
    "def reverse_all(x):\n",
    "    result = []\n",
    "    for e in x:\n",
    "        if isinstance(e, list):\n",
    "            result.append(deep_reverse(e))\n",
    "        else:\n",
    "            result.append(e)\n",
    "    result.reverse()\n",
    "    return result\n",
    "\n",
    "reverse_all([[1, 2], [3, 4], [5, 6, 7]])"
   ]
  }
 ],
 "metadata": {
  "kernelspec": {
   "display_name": "Python 3 (ipykernel)",
   "language": "python",
   "name": "python3"
  },
  "language_info": {
   "codemirror_mode": {
    "name": "ipython",
    "version": 3
   },
   "file_extension": ".py",
   "mimetype": "text/x-python",
   "name": "python",
   "nbconvert_exporter": "python",
   "pygments_lexer": "ipython3",
   "version": "3.11.0"
  }
 },
 "nbformat": 4,
 "nbformat_minor": 5
}
